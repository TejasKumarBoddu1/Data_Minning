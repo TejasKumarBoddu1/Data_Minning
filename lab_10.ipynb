{
  "nbformat": 4,
  "nbformat_minor": 0,
  "metadata": {
    "colab": {
      "provenance": [],
      "authorship_tag": "ABX9TyPZT2Ke+63it4LYPosUuIuO",
      "include_colab_link": true
    },
    "kernelspec": {
      "name": "python3",
      "display_name": "Python 3"
    },
    "language_info": {
      "name": "python"
    }
  },
  "cells": [
    {
      "cell_type": "markdown",
      "metadata": {
        "id": "view-in-github",
        "colab_type": "text"
      },
      "source": [
        "<a href=\"https://colab.research.google.com/github/TejasKumarBoddu1/Data_Minning/blob/main/lab_10.ipynb\" target=\"_parent\"><img src=\"https://colab.research.google.com/assets/colab-badge.svg\" alt=\"Open In Colab\"/></a>"
      ]
    },
    {
      "cell_type": "code",
      "execution_count": 3,
      "metadata": {
        "id": "kMyOxcRjr4eV"
      },
      "outputs": [],
      "source": [
        "import numpy as np\n",
        "import pandas as pd\n",
        "import matplotlib.pyplot as plt\n",
        "import seaborn as sns\n",
        "from sklearn.model_selection import train_test_split\n",
        "from sklearn.preprocessing import StandardScaler\n",
        "from sklearn.linear_model import LogisticRegression\n",
        "from sklearn.metrics import accuracy_score, confusion_matrix, classification_report\n",
        "from sklearn.datasets import load_iris"
      ]
    },
    {
      "cell_type": "markdown",
      "source": [
        "## **Dataset**"
      ],
      "metadata": {
        "id": "5pdfM1phsaNl"
      }
    },
    {
      "cell_type": "code",
      "source": [
        "iris = load_iris()\n",
        "X = iris.data[:, :2]\n",
        "y = (iris.target != 0) * 1\n"
      ],
      "metadata": {
        "id": "wZBsp--xskeb"
      },
      "execution_count": 4,
      "outputs": []
    },
    {
      "cell_type": "code",
      "source": [
        "y"
      ],
      "metadata": {
        "colab": {
          "base_uri": "https://localhost:8080/"
        },
        "id": "v1O0K4iqs0zc",
        "outputId": "449ca8ea-7e7f-4005-9e49-16b7ed072b73"
      },
      "execution_count": 6,
      "outputs": [
        {
          "output_type": "execute_result",
          "data": {
            "text/plain": [
              "array([0, 0, 0, 0, 0, 0, 0, 0, 0, 0, 0, 0, 0, 0, 0, 0, 0, 0, 0, 0, 0, 0,\n",
              "       0, 0, 0, 0, 0, 0, 0, 0, 0, 0, 0, 0, 0, 0, 0, 0, 0, 0, 0, 0, 0, 0,\n",
              "       0, 0, 0, 0, 0, 0, 1, 1, 1, 1, 1, 1, 1, 1, 1, 1, 1, 1, 1, 1, 1, 1,\n",
              "       1, 1, 1, 1, 1, 1, 1, 1, 1, 1, 1, 1, 1, 1, 1, 1, 1, 1, 1, 1, 1, 1,\n",
              "       1, 1, 1, 1, 1, 1, 1, 1, 1, 1, 1, 1, 1, 1, 1, 1, 1, 1, 1, 1, 1, 1,\n",
              "       1, 1, 1, 1, 1, 1, 1, 1, 1, 1, 1, 1, 1, 1, 1, 1, 1, 1, 1, 1, 1, 1,\n",
              "       1, 1, 1, 1, 1, 1, 1, 1, 1, 1, 1, 1, 1, 1, 1, 1, 1, 1])"
            ]
          },
          "metadata": {},
          "execution_count": 6
        }
      ]
    },
    {
      "cell_type": "markdown",
      "source": [
        "## **Splitting Data into Training and Testing Sets**"
      ],
      "metadata": {
        "id": "-ka-UNmhs81K"
      }
    },
    {
      "cell_type": "code",
      "source": [
        "X_train, X_test, y_train, y_test = train_test_split(X, y, test_size=0.2, random_state=42)\n"
      ],
      "metadata": {
        "id": "neA3H7l-tAVB"
      },
      "execution_count": 7,
      "outputs": []
    },
    {
      "cell_type": "code",
      "source": [
        "X_train"
      ],
      "metadata": {
        "colab": {
          "base_uri": "https://localhost:8080/"
        },
        "id": "l9IYgdiYtGyo",
        "outputId": "6f674c05-857d-4884-9673-c40b12039ae2"
      },
      "execution_count": 8,
      "outputs": [
        {
          "output_type": "execute_result",
          "data": {
            "text/plain": [
              "array([[4.6, 3.6],\n",
              "       [5.7, 4.4],\n",
              "       [6.7, 3.1],\n",
              "       [4.8, 3.4],\n",
              "       [4.4, 3.2],\n",
              "       [6.3, 2.5],\n",
              "       [6.4, 3.2],\n",
              "       [5.2, 3.5],\n",
              "       [5. , 3.6],\n",
              "       [5.2, 4.1],\n",
              "       [5.8, 2.7],\n",
              "       [6. , 3.4],\n",
              "       [6.7, 3.1],\n",
              "       [5.4, 3.9],\n",
              "       [5.4, 3.7],\n",
              "       [5.5, 2.4],\n",
              "       [6.3, 2.8],\n",
              "       [6.4, 3.1],\n",
              "       [6.6, 3. ],\n",
              "       [7.2, 3.6],\n",
              "       [5.7, 2.9],\n",
              "       [7.6, 3. ],\n",
              "       [5.6, 3. ],\n",
              "       [5.1, 3.5],\n",
              "       [7.7, 2.8],\n",
              "       [5.8, 2.7],\n",
              "       [5.2, 3.4],\n",
              "       [5. , 3.5],\n",
              "       [5.1, 3.8],\n",
              "       [5. , 2. ],\n",
              "       [6.3, 2.7],\n",
              "       [4.8, 3.4],\n",
              "       [5. , 3. ],\n",
              "       [5.1, 3.3],\n",
              "       [5.6, 2.7],\n",
              "       [5.1, 3.4],\n",
              "       [5.7, 3. ],\n",
              "       [7.7, 3.8],\n",
              "       [4.6, 3.2],\n",
              "       [6.2, 2.9],\n",
              "       [5.7, 2.5],\n",
              "       [5.5, 4.2],\n",
              "       [6. , 3. ],\n",
              "       [5.8, 2.7],\n",
              "       [6. , 2.2],\n",
              "       [5.4, 3. ],\n",
              "       [6.2, 3.4],\n",
              "       [5.5, 2.3],\n",
              "       [5.4, 3.9],\n",
              "       [5. , 2.3],\n",
              "       [6.4, 2.7],\n",
              "       [5. , 3.3],\n",
              "       [5. , 3.2],\n",
              "       [5.5, 2.4],\n",
              "       [6.7, 3. ],\n",
              "       [4.9, 3.1],\n",
              "       [5.8, 2.8],\n",
              "       [5. , 3.4],\n",
              "       [5. , 3.5],\n",
              "       [5.9, 3.2],\n",
              "       [5.1, 2.5],\n",
              "       [6.9, 3.2],\n",
              "       [6. , 2.7],\n",
              "       [6.1, 2.6],\n",
              "       [7.7, 3. ],\n",
              "       [5.5, 2.5],\n",
              "       [4.4, 2.9],\n",
              "       [4.3, 3. ],\n",
              "       [6. , 2.2],\n",
              "       [7.2, 3.2],\n",
              "       [4.6, 3.1],\n",
              "       [5.1, 3.5],\n",
              "       [4.4, 3. ],\n",
              "       [6.3, 2.5],\n",
              "       [6.3, 3.4],\n",
              "       [4.6, 3.4],\n",
              "       [6.8, 3. ],\n",
              "       [6.3, 3.3],\n",
              "       [4.7, 3.2],\n",
              "       [6.1, 2.9],\n",
              "       [6.5, 2.8],\n",
              "       [6.2, 2.8],\n",
              "       [7. , 3.2],\n",
              "       [6.4, 3.2],\n",
              "       [5.1, 3.8],\n",
              "       [6.9, 3.1],\n",
              "       [5.9, 3. ],\n",
              "       [6.5, 3. ],\n",
              "       [5.7, 2.6],\n",
              "       [5.2, 2.7],\n",
              "       [6.1, 3. ],\n",
              "       [4.5, 2.3],\n",
              "       [6.6, 2.9],\n",
              "       [5.5, 2.6],\n",
              "       [5.3, 3.7],\n",
              "       [5.6, 3. ],\n",
              "       [7.3, 2.9],\n",
              "       [6.7, 3.3],\n",
              "       [5.1, 3.7],\n",
              "       [4.9, 2.4],\n",
              "       [6.7, 3.3],\n",
              "       [7.2, 3. ],\n",
              "       [4.9, 3.6],\n",
              "       [6.7, 3.1],\n",
              "       [4.9, 3. ],\n",
              "       [6.9, 3.1],\n",
              "       [7.4, 2.8],\n",
              "       [6.3, 2.9],\n",
              "       [5.7, 2.8],\n",
              "       [6.5, 3. ],\n",
              "       [6.3, 2.3],\n",
              "       [6.4, 2.9],\n",
              "       [5.6, 2.8],\n",
              "       [5.9, 3. ],\n",
              "       [5.4, 3.4],\n",
              "       [6.1, 2.8],\n",
              "       [4.9, 2.5],\n",
              "       [5.8, 4. ],\n",
              "       [5.8, 2.6],\n",
              "       [7.1, 3. ]])"
            ]
          },
          "metadata": {},
          "execution_count": 8
        }
      ]
    },
    {
      "cell_type": "code",
      "source": [
        "X_test"
      ],
      "metadata": {
        "colab": {
          "base_uri": "https://localhost:8080/"
        },
        "id": "uP-2JOa7tH4K",
        "outputId": "a686e9bc-d7d7-49ac-9479-f7f87bfb6f8e"
      },
      "execution_count": 9,
      "outputs": [
        {
          "output_type": "execute_result",
          "data": {
            "text/plain": [
              "array([[6.1, 2.8],\n",
              "       [5.7, 3.8],\n",
              "       [7.7, 2.6],\n",
              "       [6. , 2.9],\n",
              "       [6.8, 2.8],\n",
              "       [5.4, 3.4],\n",
              "       [5.6, 2.9],\n",
              "       [6.9, 3.1],\n",
              "       [6.2, 2.2],\n",
              "       [5.8, 2.7],\n",
              "       [6.5, 3.2],\n",
              "       [4.8, 3. ],\n",
              "       [5.5, 3.5],\n",
              "       [4.9, 3.1],\n",
              "       [5.1, 3.8],\n",
              "       [6.3, 3.3],\n",
              "       [6.5, 3. ],\n",
              "       [5.6, 2.5],\n",
              "       [5.7, 2.8],\n",
              "       [6.4, 2.8],\n",
              "       [4.7, 3.2],\n",
              "       [6.1, 3. ],\n",
              "       [5. , 3.4],\n",
              "       [6.4, 2.8],\n",
              "       [7.9, 3.8],\n",
              "       [6.7, 3. ],\n",
              "       [6.7, 2.5],\n",
              "       [6.8, 3.2],\n",
              "       [4.8, 3. ],\n",
              "       [4.8, 3.1]])"
            ]
          },
          "metadata": {},
          "execution_count": 9
        }
      ]
    },
    {
      "cell_type": "code",
      "source": [
        "y_train"
      ],
      "metadata": {
        "colab": {
          "base_uri": "https://localhost:8080/"
        },
        "id": "Xn_QsCogtJGX",
        "outputId": "998759be-a686-4c55-accf-653d0d3abe88"
      },
      "execution_count": 10,
      "outputs": [
        {
          "output_type": "execute_result",
          "data": {
            "text/plain": [
              "array([0, 0, 1, 0, 0, 1, 1, 0, 0, 0, 1, 1, 1, 0, 0, 1, 1, 1, 1, 1, 1, 1,\n",
              "       1, 0, 1, 1, 0, 0, 0, 1, 1, 0, 0, 0, 1, 0, 1, 1, 0, 1, 1, 0, 1, 1,\n",
              "       1, 1, 1, 1, 0, 1, 1, 0, 0, 1, 1, 0, 1, 0, 0, 1, 1, 1, 1, 1, 1, 1,\n",
              "       0, 0, 1, 1, 0, 0, 0, 1, 1, 0, 1, 1, 0, 1, 1, 1, 1, 1, 0, 1, 1, 1,\n",
              "       1, 1, 1, 0, 1, 1, 0, 1, 1, 1, 0, 1, 1, 1, 0, 1, 0, 1, 1, 1, 1, 1,\n",
              "       1, 1, 1, 1, 0, 1, 1, 0, 1, 1])"
            ]
          },
          "metadata": {},
          "execution_count": 10
        }
      ]
    },
    {
      "cell_type": "code",
      "source": [
        "y_test"
      ],
      "metadata": {
        "colab": {
          "base_uri": "https://localhost:8080/"
        },
        "id": "m7qm2UXdtKIG",
        "outputId": "5527ca0a-c229-4026-e36b-9a42daaf98d9"
      },
      "execution_count": 11,
      "outputs": [
        {
          "output_type": "execute_result",
          "data": {
            "text/plain": [
              "array([1, 0, 1, 1, 1, 0, 1, 1, 1, 1, 1, 0, 0, 0, 0, 1, 1, 1, 1, 1, 0, 1,\n",
              "       0, 1, 1, 1, 1, 1, 0, 0])"
            ]
          },
          "metadata": {},
          "execution_count": 11
        }
      ]
    },
    {
      "cell_type": "code",
      "source": [],
      "metadata": {
        "id": "9Z9g6ELftLVW"
      },
      "execution_count": 11,
      "outputs": []
    },
    {
      "cell_type": "markdown",
      "source": [
        "## **Scaling**"
      ],
      "metadata": {
        "id": "0eLGwisrtPYR"
      }
    },
    {
      "cell_type": "code",
      "source": [
        "scaler = StandardScaler()\n",
        "X_train_scaled = scaler.fit_transform(X_train)\n",
        "X_test_scaled = scaler.transform(X_test)"
      ],
      "metadata": {
        "id": "_v-NPBvYtSsJ"
      },
      "execution_count": 12,
      "outputs": []
    },
    {
      "cell_type": "code",
      "source": [
        "X_train_scaled"
      ],
      "metadata": {
        "colab": {
          "base_uri": "https://localhost:8080/"
        },
        "id": "xsjAT-G7tcWQ",
        "outputId": "31e3093a-a9eb-4874-d717-a9b89b2008c5"
      },
      "execution_count": 13,
      "outputs": [
        {
          "output_type": "execute_result",
          "data": {
            "text/plain": [
              "array([[-1.47393679,  1.20365799],\n",
              "       [-0.13307079,  2.99237573],\n",
              "       [ 1.08589829,  0.08570939],\n",
              "       [-1.23014297,  0.75647855],\n",
              "       [-1.7177306 ,  0.30929911],\n",
              "       [ 0.59831066, -1.25582892],\n",
              "       [ 0.72020757,  0.30929911],\n",
              "       [-0.74255534,  0.98006827],\n",
              "       [-0.98634915,  1.20365799],\n",
              "       [-0.74255534,  2.32160658],\n",
              "       [-0.01117388, -0.80864948],\n",
              "       [ 0.23261993,  0.75647855],\n",
              "       [ 1.08589829,  0.08570939],\n",
              "       [-0.49876152,  1.87442714],\n",
              "       [-0.49876152,  1.4272477 ],\n",
              "       [-0.37686461, -1.47941864],\n",
              "       [ 0.59831066, -0.58505976],\n",
              "       [ 0.72020757,  0.08570939],\n",
              "       [ 0.96400139, -0.13788033],\n",
              "       [ 1.69538284,  1.20365799],\n",
              "       [-0.13307079, -0.36147005],\n",
              "       [ 2.18297047, -0.13788033],\n",
              "       [-0.2549677 , -0.13788033],\n",
              "       [-0.86445224,  0.98006827],\n",
              "       [ 2.30486738, -0.58505976],\n",
              "       [-0.01117388, -0.80864948],\n",
              "       [-0.74255534,  0.75647855],\n",
              "       [-0.98634915,  0.98006827],\n",
              "       [-0.86445224,  1.65083742],\n",
              "       [-0.98634915, -2.37377751],\n",
              "       [ 0.59831066, -0.80864948],\n",
              "       [-1.23014297,  0.75647855],\n",
              "       [-0.98634915, -0.13788033],\n",
              "       [-0.86445224,  0.53288883],\n",
              "       [-0.2549677 , -0.80864948],\n",
              "       [-0.86445224,  0.75647855],\n",
              "       [-0.13307079, -0.13788033],\n",
              "       [ 2.30486738,  1.65083742],\n",
              "       [-1.47393679,  0.30929911],\n",
              "       [ 0.47641375, -0.36147005],\n",
              "       [-0.13307079, -1.25582892],\n",
              "       [-0.37686461,  2.5451963 ],\n",
              "       [ 0.23261993, -0.13788033],\n",
              "       [-0.01117388, -0.80864948],\n",
              "       [ 0.23261993, -1.92659808],\n",
              "       [-0.49876152, -0.13788033],\n",
              "       [ 0.47641375,  0.75647855],\n",
              "       [-0.37686461, -1.70300836],\n",
              "       [-0.49876152,  1.87442714],\n",
              "       [-0.98634915, -1.70300836],\n",
              "       [ 0.72020757, -0.80864948],\n",
              "       [-0.98634915,  0.53288883],\n",
              "       [-0.98634915,  0.30929911],\n",
              "       [-0.37686461, -1.47941864],\n",
              "       [ 1.08589829, -0.13788033],\n",
              "       [-1.10824606,  0.08570939],\n",
              "       [-0.01117388, -0.58505976],\n",
              "       [-0.98634915,  0.75647855],\n",
              "       [-0.98634915,  0.98006827],\n",
              "       [ 0.11072303,  0.30929911],\n",
              "       [-0.86445224, -1.25582892],\n",
              "       [ 1.32969211,  0.30929911],\n",
              "       [ 0.23261993, -0.80864948],\n",
              "       [ 0.35451684, -1.0322392 ],\n",
              "       [ 2.30486738, -0.13788033],\n",
              "       [-0.37686461, -1.25582892],\n",
              "       [-1.7177306 , -0.36147005],\n",
              "       [-1.83962751, -0.13788033],\n",
              "       [ 0.23261993, -1.92659808],\n",
              "       [ 1.69538284,  0.30929911],\n",
              "       [-1.47393679,  0.08570939],\n",
              "       [-0.86445224,  0.98006827],\n",
              "       [-1.7177306 , -0.13788033],\n",
              "       [ 0.59831066, -1.25582892],\n",
              "       [ 0.59831066,  0.75647855],\n",
              "       [-1.47393679,  0.75647855],\n",
              "       [ 1.2077952 , -0.13788033],\n",
              "       [ 0.59831066,  0.53288883],\n",
              "       [-1.35203988,  0.30929911],\n",
              "       [ 0.35451684, -0.36147005],\n",
              "       [ 0.84210448, -0.58505976],\n",
              "       [ 0.47641375, -0.58505976],\n",
              "       [ 1.45158902,  0.30929911],\n",
              "       [ 0.72020757,  0.30929911],\n",
              "       [-0.86445224,  1.65083742],\n",
              "       [ 1.32969211,  0.08570939],\n",
              "       [ 0.11072303, -0.13788033],\n",
              "       [ 0.84210448, -0.13788033],\n",
              "       [-0.13307079, -1.0322392 ],\n",
              "       [-0.74255534, -0.80864948],\n",
              "       [ 0.35451684, -0.13788033],\n",
              "       [-1.5958337 , -1.70300836],\n",
              "       [ 0.96400139, -0.36147005],\n",
              "       [-0.37686461, -1.0322392 ],\n",
              "       [-0.62065843,  1.4272477 ],\n",
              "       [-0.2549677 , -0.13788033],\n",
              "       [ 1.81727975, -0.36147005],\n",
              "       [ 1.08589829,  0.53288883],\n",
              "       [-0.86445224,  1.4272477 ],\n",
              "       [-1.10824606, -1.47941864],\n",
              "       [ 1.08589829,  0.53288883],\n",
              "       [ 1.69538284, -0.13788033],\n",
              "       [-1.10824606,  1.20365799],\n",
              "       [ 1.08589829,  0.08570939],\n",
              "       [-1.10824606, -0.13788033],\n",
              "       [ 1.32969211,  0.08570939],\n",
              "       [ 1.93917666, -0.58505976],\n",
              "       [ 0.59831066, -0.36147005],\n",
              "       [-0.13307079, -0.58505976],\n",
              "       [ 0.84210448, -0.13788033],\n",
              "       [ 0.59831066, -1.70300836],\n",
              "       [ 0.72020757, -0.36147005],\n",
              "       [-0.2549677 , -0.58505976],\n",
              "       [ 0.11072303, -0.13788033],\n",
              "       [-0.49876152,  0.75647855],\n",
              "       [ 0.35451684, -0.58505976],\n",
              "       [-1.10824606, -1.25582892],\n",
              "       [-0.01117388,  2.09801686],\n",
              "       [-0.01117388, -1.0322392 ],\n",
              "       [ 1.57348593, -0.13788033]])"
            ]
          },
          "metadata": {},
          "execution_count": 13
        }
      ]
    },
    {
      "cell_type": "code",
      "source": [
        "X_test_scaled"
      ],
      "metadata": {
        "colab": {
          "base_uri": "https://localhost:8080/"
        },
        "id": "qn8r3YBttjhc",
        "outputId": "973d160b-fbb7-42f7-dbe1-2c841391785a"
      },
      "execution_count": 14,
      "outputs": [
        {
          "output_type": "execute_result",
          "data": {
            "text/plain": [
              "array([[ 0.35451684, -0.58505976],\n",
              "       [-0.13307079,  1.65083742],\n",
              "       [ 2.30486738, -1.0322392 ],\n",
              "       [ 0.23261993, -0.36147005],\n",
              "       [ 1.2077952 , -0.58505976],\n",
              "       [-0.49876152,  0.75647855],\n",
              "       [-0.2549677 , -0.36147005],\n",
              "       [ 1.32969211,  0.08570939],\n",
              "       [ 0.47641375, -1.92659808],\n",
              "       [-0.01117388, -0.80864948],\n",
              "       [ 0.84210448,  0.30929911],\n",
              "       [-1.23014297, -0.13788033],\n",
              "       [-0.37686461,  0.98006827],\n",
              "       [-1.10824606,  0.08570939],\n",
              "       [-0.86445224,  1.65083742],\n",
              "       [ 0.59831066,  0.53288883],\n",
              "       [ 0.84210448, -0.13788033],\n",
              "       [-0.2549677 , -1.25582892],\n",
              "       [-0.13307079, -0.58505976],\n",
              "       [ 0.72020757, -0.58505976],\n",
              "       [-1.35203988,  0.30929911],\n",
              "       [ 0.35451684, -0.13788033],\n",
              "       [-0.98634915,  0.75647855],\n",
              "       [ 0.72020757, -0.58505976],\n",
              "       [ 2.5486612 ,  1.65083742],\n",
              "       [ 1.08589829, -0.13788033],\n",
              "       [ 1.08589829, -1.25582892],\n",
              "       [ 1.2077952 ,  0.30929911],\n",
              "       [-1.23014297, -0.13788033],\n",
              "       [-1.23014297,  0.08570939]])"
            ]
          },
          "metadata": {},
          "execution_count": 14
        }
      ]
    },
    {
      "cell_type": "markdown",
      "source": [
        "### **Train the Logistic Regression Model**"
      ],
      "metadata": {
        "id": "2xTljiwdtZzE"
      }
    },
    {
      "cell_type": "code",
      "source": [
        "model = LogisticRegression()\n",
        "model.fit(X_train, y_train)"
      ],
      "metadata": {
        "colab": {
          "base_uri": "https://localhost:8080/",
          "height": 80
        },
        "id": "MKah8O5Vtt8o",
        "outputId": "4763a978-e348-4f89-f419-5ea8719fcd4a"
      },
      "execution_count": 15,
      "outputs": [
        {
          "output_type": "execute_result",
          "data": {
            "text/plain": [
              "LogisticRegression()"
            ],
            "text/html": [
              "<style>#sk-container-id-1 {\n",
              "  /* Definition of color scheme common for light and dark mode */\n",
              "  --sklearn-color-text: #000;\n",
              "  --sklearn-color-text-muted: #666;\n",
              "  --sklearn-color-line: gray;\n",
              "  /* Definition of color scheme for unfitted estimators */\n",
              "  --sklearn-color-unfitted-level-0: #fff5e6;\n",
              "  --sklearn-color-unfitted-level-1: #f6e4d2;\n",
              "  --sklearn-color-unfitted-level-2: #ffe0b3;\n",
              "  --sklearn-color-unfitted-level-3: chocolate;\n",
              "  /* Definition of color scheme for fitted estimators */\n",
              "  --sklearn-color-fitted-level-0: #f0f8ff;\n",
              "  --sklearn-color-fitted-level-1: #d4ebff;\n",
              "  --sklearn-color-fitted-level-2: #b3dbfd;\n",
              "  --sklearn-color-fitted-level-3: cornflowerblue;\n",
              "\n",
              "  /* Specific color for light theme */\n",
              "  --sklearn-color-text-on-default-background: var(--sg-text-color, var(--theme-code-foreground, var(--jp-content-font-color1, black)));\n",
              "  --sklearn-color-background: var(--sg-background-color, var(--theme-background, var(--jp-layout-color0, white)));\n",
              "  --sklearn-color-border-box: var(--sg-text-color, var(--theme-code-foreground, var(--jp-content-font-color1, black)));\n",
              "  --sklearn-color-icon: #696969;\n",
              "\n",
              "  @media (prefers-color-scheme: dark) {\n",
              "    /* Redefinition of color scheme for dark theme */\n",
              "    --sklearn-color-text-on-default-background: var(--sg-text-color, var(--theme-code-foreground, var(--jp-content-font-color1, white)));\n",
              "    --sklearn-color-background: var(--sg-background-color, var(--theme-background, var(--jp-layout-color0, #111)));\n",
              "    --sklearn-color-border-box: var(--sg-text-color, var(--theme-code-foreground, var(--jp-content-font-color1, white)));\n",
              "    --sklearn-color-icon: #878787;\n",
              "  }\n",
              "}\n",
              "\n",
              "#sk-container-id-1 {\n",
              "  color: var(--sklearn-color-text);\n",
              "}\n",
              "\n",
              "#sk-container-id-1 pre {\n",
              "  padding: 0;\n",
              "}\n",
              "\n",
              "#sk-container-id-1 input.sk-hidden--visually {\n",
              "  border: 0;\n",
              "  clip: rect(1px 1px 1px 1px);\n",
              "  clip: rect(1px, 1px, 1px, 1px);\n",
              "  height: 1px;\n",
              "  margin: -1px;\n",
              "  overflow: hidden;\n",
              "  padding: 0;\n",
              "  position: absolute;\n",
              "  width: 1px;\n",
              "}\n",
              "\n",
              "#sk-container-id-1 div.sk-dashed-wrapped {\n",
              "  border: 1px dashed var(--sklearn-color-line);\n",
              "  margin: 0 0.4em 0.5em 0.4em;\n",
              "  box-sizing: border-box;\n",
              "  padding-bottom: 0.4em;\n",
              "  background-color: var(--sklearn-color-background);\n",
              "}\n",
              "\n",
              "#sk-container-id-1 div.sk-container {\n",
              "  /* jupyter's `normalize.less` sets `[hidden] { display: none; }`\n",
              "     but bootstrap.min.css set `[hidden] { display: none !important; }`\n",
              "     so we also need the `!important` here to be able to override the\n",
              "     default hidden behavior on the sphinx rendered scikit-learn.org.\n",
              "     See: https://github.com/scikit-learn/scikit-learn/issues/21755 */\n",
              "  display: inline-block !important;\n",
              "  position: relative;\n",
              "}\n",
              "\n",
              "#sk-container-id-1 div.sk-text-repr-fallback {\n",
              "  display: none;\n",
              "}\n",
              "\n",
              "div.sk-parallel-item,\n",
              "div.sk-serial,\n",
              "div.sk-item {\n",
              "  /* draw centered vertical line to link estimators */\n",
              "  background-image: linear-gradient(var(--sklearn-color-text-on-default-background), var(--sklearn-color-text-on-default-background));\n",
              "  background-size: 2px 100%;\n",
              "  background-repeat: no-repeat;\n",
              "  background-position: center center;\n",
              "}\n",
              "\n",
              "/* Parallel-specific style estimator block */\n",
              "\n",
              "#sk-container-id-1 div.sk-parallel-item::after {\n",
              "  content: \"\";\n",
              "  width: 100%;\n",
              "  border-bottom: 2px solid var(--sklearn-color-text-on-default-background);\n",
              "  flex-grow: 1;\n",
              "}\n",
              "\n",
              "#sk-container-id-1 div.sk-parallel {\n",
              "  display: flex;\n",
              "  align-items: stretch;\n",
              "  justify-content: center;\n",
              "  background-color: var(--sklearn-color-background);\n",
              "  position: relative;\n",
              "}\n",
              "\n",
              "#sk-container-id-1 div.sk-parallel-item {\n",
              "  display: flex;\n",
              "  flex-direction: column;\n",
              "}\n",
              "\n",
              "#sk-container-id-1 div.sk-parallel-item:first-child::after {\n",
              "  align-self: flex-end;\n",
              "  width: 50%;\n",
              "}\n",
              "\n",
              "#sk-container-id-1 div.sk-parallel-item:last-child::after {\n",
              "  align-self: flex-start;\n",
              "  width: 50%;\n",
              "}\n",
              "\n",
              "#sk-container-id-1 div.sk-parallel-item:only-child::after {\n",
              "  width: 0;\n",
              "}\n",
              "\n",
              "/* Serial-specific style estimator block */\n",
              "\n",
              "#sk-container-id-1 div.sk-serial {\n",
              "  display: flex;\n",
              "  flex-direction: column;\n",
              "  align-items: center;\n",
              "  background-color: var(--sklearn-color-background);\n",
              "  padding-right: 1em;\n",
              "  padding-left: 1em;\n",
              "}\n",
              "\n",
              "\n",
              "/* Toggleable style: style used for estimator/Pipeline/ColumnTransformer box that is\n",
              "clickable and can be expanded/collapsed.\n",
              "- Pipeline and ColumnTransformer use this feature and define the default style\n",
              "- Estimators will overwrite some part of the style using the `sk-estimator` class\n",
              "*/\n",
              "\n",
              "/* Pipeline and ColumnTransformer style (default) */\n",
              "\n",
              "#sk-container-id-1 div.sk-toggleable {\n",
              "  /* Default theme specific background. It is overwritten whether we have a\n",
              "  specific estimator or a Pipeline/ColumnTransformer */\n",
              "  background-color: var(--sklearn-color-background);\n",
              "}\n",
              "\n",
              "/* Toggleable label */\n",
              "#sk-container-id-1 label.sk-toggleable__label {\n",
              "  cursor: pointer;\n",
              "  display: flex;\n",
              "  width: 100%;\n",
              "  margin-bottom: 0;\n",
              "  padding: 0.5em;\n",
              "  box-sizing: border-box;\n",
              "  text-align: center;\n",
              "  align-items: start;\n",
              "  justify-content: space-between;\n",
              "  gap: 0.5em;\n",
              "}\n",
              "\n",
              "#sk-container-id-1 label.sk-toggleable__label .caption {\n",
              "  font-size: 0.6rem;\n",
              "  font-weight: lighter;\n",
              "  color: var(--sklearn-color-text-muted);\n",
              "}\n",
              "\n",
              "#sk-container-id-1 label.sk-toggleable__label-arrow:before {\n",
              "  /* Arrow on the left of the label */\n",
              "  content: \"▸\";\n",
              "  float: left;\n",
              "  margin-right: 0.25em;\n",
              "  color: var(--sklearn-color-icon);\n",
              "}\n",
              "\n",
              "#sk-container-id-1 label.sk-toggleable__label-arrow:hover:before {\n",
              "  color: var(--sklearn-color-text);\n",
              "}\n",
              "\n",
              "/* Toggleable content - dropdown */\n",
              "\n",
              "#sk-container-id-1 div.sk-toggleable__content {\n",
              "  max-height: 0;\n",
              "  max-width: 0;\n",
              "  overflow: hidden;\n",
              "  text-align: left;\n",
              "  /* unfitted */\n",
              "  background-color: var(--sklearn-color-unfitted-level-0);\n",
              "}\n",
              "\n",
              "#sk-container-id-1 div.sk-toggleable__content.fitted {\n",
              "  /* fitted */\n",
              "  background-color: var(--sklearn-color-fitted-level-0);\n",
              "}\n",
              "\n",
              "#sk-container-id-1 div.sk-toggleable__content pre {\n",
              "  margin: 0.2em;\n",
              "  border-radius: 0.25em;\n",
              "  color: var(--sklearn-color-text);\n",
              "  /* unfitted */\n",
              "  background-color: var(--sklearn-color-unfitted-level-0);\n",
              "}\n",
              "\n",
              "#sk-container-id-1 div.sk-toggleable__content.fitted pre {\n",
              "  /* unfitted */\n",
              "  background-color: var(--sklearn-color-fitted-level-0);\n",
              "}\n",
              "\n",
              "#sk-container-id-1 input.sk-toggleable__control:checked~div.sk-toggleable__content {\n",
              "  /* Expand drop-down */\n",
              "  max-height: 200px;\n",
              "  max-width: 100%;\n",
              "  overflow: auto;\n",
              "}\n",
              "\n",
              "#sk-container-id-1 input.sk-toggleable__control:checked~label.sk-toggleable__label-arrow:before {\n",
              "  content: \"▾\";\n",
              "}\n",
              "\n",
              "/* Pipeline/ColumnTransformer-specific style */\n",
              "\n",
              "#sk-container-id-1 div.sk-label input.sk-toggleable__control:checked~label.sk-toggleable__label {\n",
              "  color: var(--sklearn-color-text);\n",
              "  background-color: var(--sklearn-color-unfitted-level-2);\n",
              "}\n",
              "\n",
              "#sk-container-id-1 div.sk-label.fitted input.sk-toggleable__control:checked~label.sk-toggleable__label {\n",
              "  background-color: var(--sklearn-color-fitted-level-2);\n",
              "}\n",
              "\n",
              "/* Estimator-specific style */\n",
              "\n",
              "/* Colorize estimator box */\n",
              "#sk-container-id-1 div.sk-estimator input.sk-toggleable__control:checked~label.sk-toggleable__label {\n",
              "  /* unfitted */\n",
              "  background-color: var(--sklearn-color-unfitted-level-2);\n",
              "}\n",
              "\n",
              "#sk-container-id-1 div.sk-estimator.fitted input.sk-toggleable__control:checked~label.sk-toggleable__label {\n",
              "  /* fitted */\n",
              "  background-color: var(--sklearn-color-fitted-level-2);\n",
              "}\n",
              "\n",
              "#sk-container-id-1 div.sk-label label.sk-toggleable__label,\n",
              "#sk-container-id-1 div.sk-label label {\n",
              "  /* The background is the default theme color */\n",
              "  color: var(--sklearn-color-text-on-default-background);\n",
              "}\n",
              "\n",
              "/* On hover, darken the color of the background */\n",
              "#sk-container-id-1 div.sk-label:hover label.sk-toggleable__label {\n",
              "  color: var(--sklearn-color-text);\n",
              "  background-color: var(--sklearn-color-unfitted-level-2);\n",
              "}\n",
              "\n",
              "/* Label box, darken color on hover, fitted */\n",
              "#sk-container-id-1 div.sk-label.fitted:hover label.sk-toggleable__label.fitted {\n",
              "  color: var(--sklearn-color-text);\n",
              "  background-color: var(--sklearn-color-fitted-level-2);\n",
              "}\n",
              "\n",
              "/* Estimator label */\n",
              "\n",
              "#sk-container-id-1 div.sk-label label {\n",
              "  font-family: monospace;\n",
              "  font-weight: bold;\n",
              "  display: inline-block;\n",
              "  line-height: 1.2em;\n",
              "}\n",
              "\n",
              "#sk-container-id-1 div.sk-label-container {\n",
              "  text-align: center;\n",
              "}\n",
              "\n",
              "/* Estimator-specific */\n",
              "#sk-container-id-1 div.sk-estimator {\n",
              "  font-family: monospace;\n",
              "  border: 1px dotted var(--sklearn-color-border-box);\n",
              "  border-radius: 0.25em;\n",
              "  box-sizing: border-box;\n",
              "  margin-bottom: 0.5em;\n",
              "  /* unfitted */\n",
              "  background-color: var(--sklearn-color-unfitted-level-0);\n",
              "}\n",
              "\n",
              "#sk-container-id-1 div.sk-estimator.fitted {\n",
              "  /* fitted */\n",
              "  background-color: var(--sklearn-color-fitted-level-0);\n",
              "}\n",
              "\n",
              "/* on hover */\n",
              "#sk-container-id-1 div.sk-estimator:hover {\n",
              "  /* unfitted */\n",
              "  background-color: var(--sklearn-color-unfitted-level-2);\n",
              "}\n",
              "\n",
              "#sk-container-id-1 div.sk-estimator.fitted:hover {\n",
              "  /* fitted */\n",
              "  background-color: var(--sklearn-color-fitted-level-2);\n",
              "}\n",
              "\n",
              "/* Specification for estimator info (e.g. \"i\" and \"?\") */\n",
              "\n",
              "/* Common style for \"i\" and \"?\" */\n",
              "\n",
              ".sk-estimator-doc-link,\n",
              "a:link.sk-estimator-doc-link,\n",
              "a:visited.sk-estimator-doc-link {\n",
              "  float: right;\n",
              "  font-size: smaller;\n",
              "  line-height: 1em;\n",
              "  font-family: monospace;\n",
              "  background-color: var(--sklearn-color-background);\n",
              "  border-radius: 1em;\n",
              "  height: 1em;\n",
              "  width: 1em;\n",
              "  text-decoration: none !important;\n",
              "  margin-left: 0.5em;\n",
              "  text-align: center;\n",
              "  /* unfitted */\n",
              "  border: var(--sklearn-color-unfitted-level-1) 1pt solid;\n",
              "  color: var(--sklearn-color-unfitted-level-1);\n",
              "}\n",
              "\n",
              ".sk-estimator-doc-link.fitted,\n",
              "a:link.sk-estimator-doc-link.fitted,\n",
              "a:visited.sk-estimator-doc-link.fitted {\n",
              "  /* fitted */\n",
              "  border: var(--sklearn-color-fitted-level-1) 1pt solid;\n",
              "  color: var(--sklearn-color-fitted-level-1);\n",
              "}\n",
              "\n",
              "/* On hover */\n",
              "div.sk-estimator:hover .sk-estimator-doc-link:hover,\n",
              ".sk-estimator-doc-link:hover,\n",
              "div.sk-label-container:hover .sk-estimator-doc-link:hover,\n",
              ".sk-estimator-doc-link:hover {\n",
              "  /* unfitted */\n",
              "  background-color: var(--sklearn-color-unfitted-level-3);\n",
              "  color: var(--sklearn-color-background);\n",
              "  text-decoration: none;\n",
              "}\n",
              "\n",
              "div.sk-estimator.fitted:hover .sk-estimator-doc-link.fitted:hover,\n",
              ".sk-estimator-doc-link.fitted:hover,\n",
              "div.sk-label-container:hover .sk-estimator-doc-link.fitted:hover,\n",
              ".sk-estimator-doc-link.fitted:hover {\n",
              "  /* fitted */\n",
              "  background-color: var(--sklearn-color-fitted-level-3);\n",
              "  color: var(--sklearn-color-background);\n",
              "  text-decoration: none;\n",
              "}\n",
              "\n",
              "/* Span, style for the box shown on hovering the info icon */\n",
              ".sk-estimator-doc-link span {\n",
              "  display: none;\n",
              "  z-index: 9999;\n",
              "  position: relative;\n",
              "  font-weight: normal;\n",
              "  right: .2ex;\n",
              "  padding: .5ex;\n",
              "  margin: .5ex;\n",
              "  width: min-content;\n",
              "  min-width: 20ex;\n",
              "  max-width: 50ex;\n",
              "  color: var(--sklearn-color-text);\n",
              "  box-shadow: 2pt 2pt 4pt #999;\n",
              "  /* unfitted */\n",
              "  background: var(--sklearn-color-unfitted-level-0);\n",
              "  border: .5pt solid var(--sklearn-color-unfitted-level-3);\n",
              "}\n",
              "\n",
              ".sk-estimator-doc-link.fitted span {\n",
              "  /* fitted */\n",
              "  background: var(--sklearn-color-fitted-level-0);\n",
              "  border: var(--sklearn-color-fitted-level-3);\n",
              "}\n",
              "\n",
              ".sk-estimator-doc-link:hover span {\n",
              "  display: block;\n",
              "}\n",
              "\n",
              "/* \"?\"-specific style due to the `<a>` HTML tag */\n",
              "\n",
              "#sk-container-id-1 a.estimator_doc_link {\n",
              "  float: right;\n",
              "  font-size: 1rem;\n",
              "  line-height: 1em;\n",
              "  font-family: monospace;\n",
              "  background-color: var(--sklearn-color-background);\n",
              "  border-radius: 1rem;\n",
              "  height: 1rem;\n",
              "  width: 1rem;\n",
              "  text-decoration: none;\n",
              "  /* unfitted */\n",
              "  color: var(--sklearn-color-unfitted-level-1);\n",
              "  border: var(--sklearn-color-unfitted-level-1) 1pt solid;\n",
              "}\n",
              "\n",
              "#sk-container-id-1 a.estimator_doc_link.fitted {\n",
              "  /* fitted */\n",
              "  border: var(--sklearn-color-fitted-level-1) 1pt solid;\n",
              "  color: var(--sklearn-color-fitted-level-1);\n",
              "}\n",
              "\n",
              "/* On hover */\n",
              "#sk-container-id-1 a.estimator_doc_link:hover {\n",
              "  /* unfitted */\n",
              "  background-color: var(--sklearn-color-unfitted-level-3);\n",
              "  color: var(--sklearn-color-background);\n",
              "  text-decoration: none;\n",
              "}\n",
              "\n",
              "#sk-container-id-1 a.estimator_doc_link.fitted:hover {\n",
              "  /* fitted */\n",
              "  background-color: var(--sklearn-color-fitted-level-3);\n",
              "}\n",
              "</style><div id=\"sk-container-id-1\" class=\"sk-top-container\"><div class=\"sk-text-repr-fallback\"><pre>LogisticRegression()</pre><b>In a Jupyter environment, please rerun this cell to show the HTML representation or trust the notebook. <br />On GitHub, the HTML representation is unable to render, please try loading this page with nbviewer.org.</b></div><div class=\"sk-container\" hidden><div class=\"sk-item\"><div class=\"sk-estimator fitted sk-toggleable\"><input class=\"sk-toggleable__control sk-hidden--visually\" id=\"sk-estimator-id-1\" type=\"checkbox\" checked><label for=\"sk-estimator-id-1\" class=\"sk-toggleable__label fitted sk-toggleable__label-arrow\"><div><div>LogisticRegression</div></div><div><a class=\"sk-estimator-doc-link fitted\" rel=\"noreferrer\" target=\"_blank\" href=\"https://scikit-learn.org/1.6/modules/generated/sklearn.linear_model.LogisticRegression.html\">?<span>Documentation for LogisticRegression</span></a><span class=\"sk-estimator-doc-link fitted\">i<span>Fitted</span></span></div></label><div class=\"sk-toggleable__content fitted\"><pre>LogisticRegression()</pre></div> </div></div></div></div>"
            ]
          },
          "metadata": {},
          "execution_count": 15
        }
      ]
    },
    {
      "cell_type": "markdown",
      "source": [
        "## **Making Predictions**"
      ],
      "metadata": {
        "id": "2nKPiO6At1Jl"
      }
    },
    {
      "cell_type": "code",
      "source": [
        "y_pred = model.predict(X_test)\n",
        "y_pred"
      ],
      "metadata": {
        "colab": {
          "base_uri": "https://localhost:8080/"
        },
        "id": "zqF9MmFft3NA",
        "outputId": "74326a55-276c-414e-9449-893fcafcdf24"
      },
      "execution_count": 17,
      "outputs": [
        {
          "output_type": "execute_result",
          "data": {
            "text/plain": [
              "array([1, 0, 1, 1, 1, 0, 1, 1, 1, 1, 1, 0, 0, 0, 0, 1, 1, 1, 1, 1, 0, 1,\n",
              "       0, 1, 1, 1, 1, 1, 0, 0])"
            ]
          },
          "metadata": {},
          "execution_count": 17
        }
      ]
    },
    {
      "cell_type": "markdown",
      "source": [
        "## **Evaluating the Model**"
      ],
      "metadata": {
        "id": "tNu4l-1EuQgK"
      }
    },
    {
      "cell_type": "code",
      "source": [
        "accuracy = accuracy_score(y_test, y_pred)\n",
        "conf_matrix = confusion_matrix(y_test, y_pred)\n",
        "report = classification_report(y_test, y_pred)"
      ],
      "metadata": {
        "id": "jiRsF-X8uU0w"
      },
      "execution_count": 18,
      "outputs": []
    },
    {
      "cell_type": "code",
      "source": [
        "conf_matrix"
      ],
      "metadata": {
        "colab": {
          "base_uri": "https://localhost:8080/"
        },
        "id": "ssgVJwipudz5",
        "outputId": "310a310b-18f2-43f1-b48a-03494c8b33a8"
      },
      "execution_count": 23,
      "outputs": [
        {
          "output_type": "execute_result",
          "data": {
            "text/plain": [
              "array([[10,  0],\n",
              "       [ 0, 20]])"
            ]
          },
          "metadata": {},
          "execution_count": 23
        }
      ]
    },
    {
      "cell_type": "code",
      "source": [
        "print(report)"
      ],
      "metadata": {
        "colab": {
          "base_uri": "https://localhost:8080/"
        },
        "id": "ZXBbhGbpugSj",
        "outputId": "5f8a7fb1-617e-4f13-cea5-178485672016"
      },
      "execution_count": 24,
      "outputs": [
        {
          "output_type": "stream",
          "name": "stdout",
          "text": [
            "              precision    recall  f1-score   support\n",
            "\n",
            "           0       1.00      1.00      1.00        10\n",
            "           1       1.00      1.00      1.00        20\n",
            "\n",
            "    accuracy                           1.00        30\n",
            "   macro avg       1.00      1.00      1.00        30\n",
            "weighted avg       1.00      1.00      1.00        30\n",
            "\n"
          ]
        }
      ]
    },
    {
      "cell_type": "markdown",
      "source": [
        "## **Results**"
      ],
      "metadata": {
        "id": "mvQXgUKRuxeW"
      }
    },
    {
      "cell_type": "code",
      "source": [
        "accuracy"
      ],
      "metadata": {
        "colab": {
          "base_uri": "https://localhost:8080/"
        },
        "id": "QQ9Ib-Ehu8TB",
        "outputId": "18346281-10ac-4c8b-87b4-2a42b434b2fb"
      },
      "execution_count": 26,
      "outputs": [
        {
          "output_type": "execute_result",
          "data": {
            "text/plain": [
              "1.0"
            ]
          },
          "metadata": {},
          "execution_count": 26
        }
      ]
    },
    {
      "cell_type": "code",
      "source": [
        "print(conf_matrix)"
      ],
      "metadata": {
        "colab": {
          "base_uri": "https://localhost:8080/"
        },
        "id": "UUn-O12fvFv2",
        "outputId": "a233997b-1ec1-4d59-f34a-826cc3f347f5"
      },
      "execution_count": 28,
      "outputs": [
        {
          "output_type": "stream",
          "name": "stdout",
          "text": [
            "[[10  0]\n",
            " [ 0 20]]\n"
          ]
        }
      ]
    },
    {
      "cell_type": "code",
      "source": [
        "print(report)"
      ],
      "metadata": {
        "colab": {
          "base_uri": "https://localhost:8080/"
        },
        "id": "dFXs0GrSvQsE",
        "outputId": "71dd7a21-7d9c-43da-ea2e-815f13e2f47f"
      },
      "execution_count": 30,
      "outputs": [
        {
          "output_type": "stream",
          "name": "stdout",
          "text": [
            "              precision    recall  f1-score   support\n",
            "\n",
            "           0       1.00      1.00      1.00        10\n",
            "           1       1.00      1.00      1.00        20\n",
            "\n",
            "    accuracy                           1.00        30\n",
            "   macro avg       1.00      1.00      1.00        30\n",
            "weighted avg       1.00      1.00      1.00        30\n",
            "\n"
          ]
        }
      ]
    },
    {
      "cell_type": "markdown",
      "source": [
        "## **Visualizing**"
      ],
      "metadata": {
        "id": "EznV8kZIvZud"
      }
    },
    {
      "cell_type": "code",
      "source": [
        "plt.figure(figsize=(8, 6))\n",
        "sns.scatterplot(x=X_train[:, 0], y=X_train[:, 1], hue=y_train, style=y_train)\n",
        "x_min, x_max = X_train[:, 0].min() - 1, X_train[:, 0].max() + 1\n",
        "y_min, y_max = X_train[:, 1].min() - 1, X_train[:, 1].max() + 1\n",
        "xx, yy = np.meshgrid(np.linspace(x_min, x_max, 100), np.linspace(y_min, y_max, 100))\n",
        "Z = model.predict(np.c_[xx.ravel(), yy.ravel()]).reshape(xx.shape)\n",
        "plt.contourf(xx, yy, Z, alpha=0.3)\n",
        "plt.xlabel('Feature 1')\n",
        "plt.ylabel('Feature 2')\n",
        "plt.title('Decision Boundary of Logistic Regression')\n"
      ],
      "metadata": {
        "colab": {
          "base_uri": "https://localhost:8080/",
          "height": 581
        },
        "id": "Z5_kgUwsvZfY",
        "outputId": "2b0e8b00-0adf-42c9-d11a-967e1f63fbb6"
      },
      "execution_count": 31,
      "outputs": [
        {
          "output_type": "execute_result",
          "data": {
            "text/plain": [
              "Text(0.5, 1.0, 'Decision Boundary of Logistic Regression')"
            ]
          },
          "metadata": {},
          "execution_count": 31
        },
        {
          "output_type": "display_data",
          "data": {
            "text/plain": [
              "<Figure size 800x600 with 1 Axes>"
            ],
            "image/png": "[encoded data removed]"
          },
          "metadata": {}
        }
      ]
    }
  ]
}