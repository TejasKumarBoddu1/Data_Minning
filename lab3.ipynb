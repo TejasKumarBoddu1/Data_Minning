{
  "nbformat": 4,
  "nbformat_minor": 0,
  "metadata": {
    "colab": {
      "provenance": [],
      "authorship_tag": "ABX9TyOdJE7MRIwWwhj4yYWF3vpp",
      "include_colab_link": true
    },
    "kernelspec": {
      "name": "python3",
      "display_name": "Python 3"
    },
    "language_info": {
      "name": "python"
    }
  },
  "cells": [
    {
      "cell_type": "markdown",
      "metadata": {
        "id": "view-in-github",
        "colab_type": "text"
      },
      "source": [
        "<a href=\"https://colab.research.google.com/github/TejasKumarBoddu1/Data_Minning/blob/main/lab3.ipynb\" target=\"_parent\"><img src=\"https://colab.research.google.com/assets/colab-badge.svg\" alt=\"Open In Colab\"/></a>"
      ]
    },
    {
      "cell_type": "code",
      "execution_count": 23,
      "metadata": {
        "colab": {
          "base_uri": "https://localhost:8080/"
        },
        "id": "axY5rWAW1QQ1",
        "outputId": "e37bbe85-9e00-4548-f13f-71c8b3e106a8"
      },
      "outputs": [
        {
          "output_type": "stream",
          "name": "stdout",
          "text": [
            "arr1+arr2\n",
            "[[13 14 35]\n",
            " [48 20 69]\n",
            " [24 26 28]]\n",
            "arr1-arr2\n",
            "[[-11 -10 -29]\n",
            " [-40 -10 -57]\n",
            " [-10 -10 -10]]\n"
          ]
        },
        {
          "output_type": "execute_result",
          "data": {
            "text/plain": [
              "array([[-11, -10, -29],\n",
              "       [-40, -10, -57],\n",
              "       [-10, -10, -10]])"
            ]
          },
          "metadata": {},
          "execution_count": 23
        }
      ],
      "source": [
        "import numpy as np\n",
        "arr1=np.array([[1,2,3],[4,5,6],[7,8,9]])\n",
        "arr2=np.array([[12,12,32],[44,15,63],[17,18,19]])\n",
        "print(\"arr1+arr2\")\n",
        "print(arr1+arr2)\n",
        "print(\"arr1-arr2\")\n",
        "print(arr1-arr2)\n",
        "np.add(arr1,arr2)\n",
        "np.subtract(arr1,arr2)"
      ]
    },
    {
      "cell_type": "code",
      "source": [
        "import numpy as np\n",
        "\n",
        "arr3 = np.array([[1, 2], [3, 4], [5, 6]])\n",
        "arr4 = np.array([[7, 8, 9], [10, 11, 12]])\n",
        "dot = np.dot(arr3, arr4)\n",
        "ans = arr3 @ arr4\n",
        "print(\"Matrix A\")\n",
        "print(arr3)\n",
        "print(\"Matrix B\")\n",
        "print(arr4)\n",
        "print(\"dot\")\n",
        "print(dot)\n",
        "print(\"ans\")\n",
        "print(ans)\n"
      ],
      "metadata": {
        "colab": {
          "base_uri": "https://localhost:8080/"
        },
        "id": "NAFFMsZP4sqk",
        "outputId": "f11c7289-39e7-4417-beb4-4633f69bf7ce"
      },
      "execution_count": 21,
      "outputs": [
        {
          "output_type": "stream",
          "name": "stdout",
          "text": [
            "Matrix A\n",
            "[[1 2]\n",
            " [3 4]\n",
            " [5 6]]\n",
            "Matrix B\n",
            "[[ 7  8  9]\n",
            " [10 11 12]]\n",
            "dot\n",
            "[[ 27  30  33]\n",
            " [ 61  68  75]\n",
            " [ 95 106 117]]\n",
            "ans\n",
            "[[ 27  30  33]\n",
            " [ 61  68  75]\n",
            " [ 95 106 117]]\n"
          ]
        }
      ]
    },
    {
      "cell_type": "code",
      "source": [],
      "metadata": {
        "id": "Z8LaEI2y6uKi"
      },
      "execution_count": null,
      "outputs": []
    }
  ]
}